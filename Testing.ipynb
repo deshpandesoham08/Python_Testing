{
  "nbformat": 4,
  "nbformat_minor": 0,
  "metadata": {
    "colab": {
      "name": "Testing.ipynb",
      "version": "0.3.2",
      "provenance": [],
      "collapsed_sections": [],
      "include_colab_link": true
    },
    "kernelspec": {
      "name": "python3",
      "display_name": "Python 3"
    },
    "accelerator": "GPU"
  },
  "cells": [
    {
      "cell_type": "markdown",
      "metadata": {
        "id": "view-in-github",
        "colab_type": "text"
      },
      "source": [
        "<a href=\"https://colab.research.google.com/github/deshpandesoham08/Python_Testing/blob/master/Testing.ipynb\" target=\"_parent\"><img src=\"https://colab.research.google.com/assets/colab-badge.svg\" alt=\"Open In Colab\"/></a>"
      ]
    },
    {
      "cell_type": "code",
      "metadata": {
        "id": "KuvZ8ag2s00O",
        "colab_type": "code",
        "outputId": "62941ed1-a6dc-444f-96e9-f704097aa6d9",
        "colab": {
          "base_uri": "https://localhost:8080/",
          "height": 102
        }
      },
      "source": [
        "age = input(\"Your age is\")\n",
        "name = input(\"Your name is \")\n",
        "height = input(\"Your height is\")\n",
        "gender = input(\"M or F?\")\n",
        "gender_group = \"boy\" if gender==\"M\"or\"m\" else \"girl\"\n",
        "gender_ = \"he\" if gender==\"M\"or\"m\" else \"she\"\n",
        "age_group = \"old\" if int(age)>30 else \"young\"\n",
        "print(\"This\", age_group, gender_group,\"'s name is\", name, \"And\", gender_, \"is almost \", age, \"years old.\",gender_, \"likes to play chess and his height is\", height, \"cm\")"
      ],
      "execution_count": 0,
      "outputs": [
        {
          "output_type": "stream",
          "text": [
            "Your age is1\n",
            "Your name is S\n",
            "Your height isF\n",
            "M or F?A\n",
            "This young boy 's name is S And he is almost  1 years old. he likes to play chess and his height is F cm\n"
          ],
          "name": "stdout"
        }
      ]
    },
    {
      "cell_type": "code",
      "metadata": {
        "id": "sNu7IeRqs3sV",
        "colab_type": "code",
        "outputId": "353e1c9b-5770-4644-85b8-916a8f04bc67",
        "colab": {
          "base_uri": "https://localhost:8080/",
          "height": 34
        }
      },
      "source": [
        "print(\"This young boy's name is\", name, \"And is he almost \", age, \"years old. He likes to play chess and his height is\", height, \"cm\")"
      ],
      "execution_count": 0,
      "outputs": [
        {
          "output_type": "stream",
          "text": [
            "This young boy's name is Akshay And is he almost  24 years old. He likes to play chess and his height is 170 cm\n"
          ],
          "name": "stdout"
        }
      ]
    },
    {
      "cell_type": "code",
      "metadata": {
        "id": "bXSrWvaqtK1p",
        "colab_type": "code",
        "colab": {}
      },
      "source": [
        "age = 4"
      ],
      "execution_count": 0,
      "outputs": []
    },
    {
      "cell_type": "code",
      "metadata": {
        "id": "OtgqIhcDxY1L",
        "colab_type": "code",
        "colab": {}
      },
      "source": [
        "w"
      ],
      "execution_count": 0,
      "outputs": []
    }
  ]
}